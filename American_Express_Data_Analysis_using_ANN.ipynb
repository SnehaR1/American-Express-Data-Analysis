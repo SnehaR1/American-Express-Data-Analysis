{
  "nbformat": 4,
  "nbformat_minor": 0,
  "metadata": {
    "colab": {
      "provenance": [],
      "authorship_tag": "ABX9TyP1eJ6E7VAjRcFLJJTGUrdU",
      "include_colab_link": true
    },
    "kernelspec": {
      "name": "python3",
      "display_name": "Python 3"
    },
    "language_info": {
      "name": "python"
    }
  },
  "cells": [
    {
      "cell_type": "markdown",
      "metadata": {
        "id": "view-in-github",
        "colab_type": "text"
      },
      "source": [
        "<a href=\"https://colab.research.google.com/github/SnehaR1/American-Express-Data-Analysis/blob/main/American_Express_Data_Analysis_using_ANN.ipynb\" target=\"_parent\"><img src=\"https://colab.research.google.com/assets/colab-badge.svg\" alt=\"Open In Colab\"/></a>"
      ]
    },
    {
      "cell_type": "code",
      "execution_count": null,
      "metadata": {
        "id": "4xg0484cjYtt"
      },
      "outputs": [],
      "source": [
        "import pandas as pd\n",
        "import numpy as np\n",
        "import tensorflow as tf"
      ]
    },
    {
      "cell_type": "code",
      "source": [
        "data=pd.read_csv('/content/Dataset_master.xlsx - American Express User Exit Pred.csv')\n",
        "data.head()"
      ],
      "metadata": {
        "colab": {
          "base_uri": "https://localhost:8080/",
          "height": 206
        },
        "id": "2VcfNmRfjs7x",
        "outputId": "983c4020-7883-4b44-dd6f-8fd762a33696"
      },
      "execution_count": null,
      "outputs": [
        {
          "output_type": "execute_result",
          "data": {
            "text/plain": [
              "   Credit Score  Geography  Gender  Age  Customer Since  Current Account  \\\n",
              "0           553      Delhi  Female   45               4            0.000   \n",
              "1           447  Bengaluru    Male   31               7            0.000   \n",
              "2           501      Delhi  Female   32               2            0.000   \n",
              "3           428      Delhi    Male   51               3            0.000   \n",
              "4           492      Delhi  Female   57               6      1912681.501   \n",
              "\n",
              "   Num of products  UPI Enabled  Estimated Yearly Income  Closed  \n",
              "0                4            1                   274150       0  \n",
              "1                4            1                   519360       0  \n",
              "2                4            1                   545501       0  \n",
              "3                4            1                    86868       0  \n",
              "4                2            1                   518680       0  "
            ],
            "text/html": [
              "\n",
              "  <div id=\"df-b7782e4f-d460-427c-8eb6-676199500593\">\n",
              "    <div class=\"colab-df-container\">\n",
              "      <div>\n",
              "<style scoped>\n",
              "    .dataframe tbody tr th:only-of-type {\n",
              "        vertical-align: middle;\n",
              "    }\n",
              "\n",
              "    .dataframe tbody tr th {\n",
              "        vertical-align: top;\n",
              "    }\n",
              "\n",
              "    .dataframe thead th {\n",
              "        text-align: right;\n",
              "    }\n",
              "</style>\n",
              "<table border=\"1\" class=\"dataframe\">\n",
              "  <thead>\n",
              "    <tr style=\"text-align: right;\">\n",
              "      <th></th>\n",
              "      <th>Credit Score</th>\n",
              "      <th>Geography</th>\n",
              "      <th>Gender</th>\n",
              "      <th>Age</th>\n",
              "      <th>Customer Since</th>\n",
              "      <th>Current Account</th>\n",
              "      <th>Num of products</th>\n",
              "      <th>UPI Enabled</th>\n",
              "      <th>Estimated Yearly Income</th>\n",
              "      <th>Closed</th>\n",
              "    </tr>\n",
              "  </thead>\n",
              "  <tbody>\n",
              "    <tr>\n",
              "      <th>0</th>\n",
              "      <td>553</td>\n",
              "      <td>Delhi</td>\n",
              "      <td>Female</td>\n",
              "      <td>45</td>\n",
              "      <td>4</td>\n",
              "      <td>0.000</td>\n",
              "      <td>4</td>\n",
              "      <td>1</td>\n",
              "      <td>274150</td>\n",
              "      <td>0</td>\n",
              "    </tr>\n",
              "    <tr>\n",
              "      <th>1</th>\n",
              "      <td>447</td>\n",
              "      <td>Bengaluru</td>\n",
              "      <td>Male</td>\n",
              "      <td>31</td>\n",
              "      <td>7</td>\n",
              "      <td>0.000</td>\n",
              "      <td>4</td>\n",
              "      <td>1</td>\n",
              "      <td>519360</td>\n",
              "      <td>0</td>\n",
              "    </tr>\n",
              "    <tr>\n",
              "      <th>2</th>\n",
              "      <td>501</td>\n",
              "      <td>Delhi</td>\n",
              "      <td>Female</td>\n",
              "      <td>32</td>\n",
              "      <td>2</td>\n",
              "      <td>0.000</td>\n",
              "      <td>4</td>\n",
              "      <td>1</td>\n",
              "      <td>545501</td>\n",
              "      <td>0</td>\n",
              "    </tr>\n",
              "    <tr>\n",
              "      <th>3</th>\n",
              "      <td>428</td>\n",
              "      <td>Delhi</td>\n",
              "      <td>Male</td>\n",
              "      <td>51</td>\n",
              "      <td>3</td>\n",
              "      <td>0.000</td>\n",
              "      <td>4</td>\n",
              "      <td>1</td>\n",
              "      <td>86868</td>\n",
              "      <td>0</td>\n",
              "    </tr>\n",
              "    <tr>\n",
              "      <th>4</th>\n",
              "      <td>492</td>\n",
              "      <td>Delhi</td>\n",
              "      <td>Female</td>\n",
              "      <td>57</td>\n",
              "      <td>6</td>\n",
              "      <td>1912681.501</td>\n",
              "      <td>2</td>\n",
              "      <td>1</td>\n",
              "      <td>518680</td>\n",
              "      <td>0</td>\n",
              "    </tr>\n",
              "  </tbody>\n",
              "</table>\n",
              "</div>\n",
              "      <button class=\"colab-df-convert\" onclick=\"convertToInteractive('df-b7782e4f-d460-427c-8eb6-676199500593')\"\n",
              "              title=\"Convert this dataframe to an interactive table.\"\n",
              "              style=\"display:none;\">\n",
              "        \n",
              "  <svg xmlns=\"http://www.w3.org/2000/svg\" height=\"24px\"viewBox=\"0 0 24 24\"\n",
              "       width=\"24px\">\n",
              "    <path d=\"M0 0h24v24H0V0z\" fill=\"none\"/>\n",
              "    <path d=\"M18.56 5.44l.94 2.06.94-2.06 2.06-.94-2.06-.94-.94-2.06-.94 2.06-2.06.94zm-11 1L8.5 8.5l.94-2.06 2.06-.94-2.06-.94L8.5 2.5l-.94 2.06-2.06.94zm10 10l.94 2.06.94-2.06 2.06-.94-2.06-.94-.94-2.06-.94 2.06-2.06.94z\"/><path d=\"M17.41 7.96l-1.37-1.37c-.4-.4-.92-.59-1.43-.59-.52 0-1.04.2-1.43.59L10.3 9.45l-7.72 7.72c-.78.78-.78 2.05 0 2.83L4 21.41c.39.39.9.59 1.41.59.51 0 1.02-.2 1.41-.59l7.78-7.78 2.81-2.81c.8-.78.8-2.07 0-2.86zM5.41 20L4 18.59l7.72-7.72 1.47 1.35L5.41 20z\"/>\n",
              "  </svg>\n",
              "      </button>\n",
              "      \n",
              "  <style>\n",
              "    .colab-df-container {\n",
              "      display:flex;\n",
              "      flex-wrap:wrap;\n",
              "      gap: 12px;\n",
              "    }\n",
              "\n",
              "    .colab-df-convert {\n",
              "      background-color: #E8F0FE;\n",
              "      border: none;\n",
              "      border-radius: 50%;\n",
              "      cursor: pointer;\n",
              "      display: none;\n",
              "      fill: #1967D2;\n",
              "      height: 32px;\n",
              "      padding: 0 0 0 0;\n",
              "      width: 32px;\n",
              "    }\n",
              "\n",
              "    .colab-df-convert:hover {\n",
              "      background-color: #E2EBFA;\n",
              "      box-shadow: 0px 1px 2px rgba(60, 64, 67, 0.3), 0px 1px 3px 1px rgba(60, 64, 67, 0.15);\n",
              "      fill: #174EA6;\n",
              "    }\n",
              "\n",
              "    [theme=dark] .colab-df-convert {\n",
              "      background-color: #3B4455;\n",
              "      fill: #D2E3FC;\n",
              "    }\n",
              "\n",
              "    [theme=dark] .colab-df-convert:hover {\n",
              "      background-color: #434B5C;\n",
              "      box-shadow: 0px 1px 3px 1px rgba(0, 0, 0, 0.15);\n",
              "      filter: drop-shadow(0px 1px 2px rgba(0, 0, 0, 0.3));\n",
              "      fill: #FFFFFF;\n",
              "    }\n",
              "  </style>\n",
              "\n",
              "      <script>\n",
              "        const buttonEl =\n",
              "          document.querySelector('#df-b7782e4f-d460-427c-8eb6-676199500593 button.colab-df-convert');\n",
              "        buttonEl.style.display =\n",
              "          google.colab.kernel.accessAllowed ? 'block' : 'none';\n",
              "\n",
              "        async function convertToInteractive(key) {\n",
              "          const element = document.querySelector('#df-b7782e4f-d460-427c-8eb6-676199500593');\n",
              "          const dataTable =\n",
              "            await google.colab.kernel.invokeFunction('convertToInteractive',\n",
              "                                                     [key], {});\n",
              "          if (!dataTable) return;\n",
              "\n",
              "          const docLinkHtml = 'Like what you see? Visit the ' +\n",
              "            '<a target=\"_blank\" href=https://colab.research.google.com/notebooks/data_table.ipynb>data table notebook</a>'\n",
              "            + ' to learn more about interactive tables.';\n",
              "          element.innerHTML = '';\n",
              "          dataTable['output_type'] = 'display_data';\n",
              "          await google.colab.output.renderOutput(dataTable, element);\n",
              "          const docLink = document.createElement('div');\n",
              "          docLink.innerHTML = docLinkHtml;\n",
              "          element.appendChild(docLink);\n",
              "        }\n",
              "      </script>\n",
              "    </div>\n",
              "  </div>\n",
              "  "
            ]
          },
          "metadata": {},
          "execution_count": 38
        }
      ]
    },
    {
      "cell_type": "code",
      "source": [
        "X=data.iloc[:,:-1].values\n",
        "y=data.iloc[:,-1].values"
      ],
      "metadata": {
        "id": "B_7GbDwWjxFi"
      },
      "execution_count": null,
      "outputs": []
    },
    {
      "cell_type": "code",
      "source": [
        "from sklearn.compose import ColumnTransformer\n",
        "from sklearn.preprocessing import OneHotEncoder\n",
        "ct=ColumnTransformer(transformers=[('encoder',OneHotEncoder(),[1,2])],remainder='passthrough')\n",
        "X = np.array(ct.fit_transform(X))\n",
        "\n"
      ],
      "metadata": {
        "id": "k7gWDaewkBoW"
      },
      "execution_count": null,
      "outputs": []
    },
    {
      "cell_type": "code",
      "source": [
        "from sklearn.preprocessing import StandardScaler\n",
        "sc=StandardScaler()\n",
        "X=sc.fit_transform(X)"
      ],
      "metadata": {
        "id": "6Nif2FTWkmFO"
      },
      "execution_count": null,
      "outputs": []
    },
    {
      "cell_type": "code",
      "source": [
        "from sklearn.model_selection import train_test_split\n",
        "X_train,X_test,y_train,y_test=train_test_split(X,y,test_size=0.2,random_state=42)"
      ],
      "metadata": {
        "id": "ZLwnrovonDHL"
      },
      "execution_count": null,
      "outputs": []
    },
    {
      "cell_type": "code",
      "source": [
        "ann=tf.keras.models.Sequential()"
      ],
      "metadata": {
        "id": "Zakpt5x_kuqM"
      },
      "execution_count": null,
      "outputs": []
    },
    {
      "cell_type": "code",
      "source": [
        "ann.add(tf.keras.layers.Dense(units=5,activation=\"relu\"))"
      ],
      "metadata": {
        "id": "JwUIjy62lpdc"
      },
      "execution_count": null,
      "outputs": []
    },
    {
      "cell_type": "code",
      "source": [
        "ann.add(tf.keras.layers.Dense(units=5,activation=\"relu\"))"
      ],
      "metadata": {
        "id": "Jz0Ankgwma9w"
      },
      "execution_count": null,
      "outputs": []
    },
    {
      "cell_type": "code",
      "source": [
        "ann.add(tf.keras.layers.Dense(units=1,activation=\"sigmoid\"))"
      ],
      "metadata": {
        "id": "To5QwseAmemc"
      },
      "execution_count": null,
      "outputs": []
    },
    {
      "cell_type": "code",
      "source": [
        "ann.compile(optimizer='adam',loss='binary_crossentropy',metrics=['accuracy'])"
      ],
      "metadata": {
        "id": "aesNR6xnmhYy"
      },
      "execution_count": null,
      "outputs": []
    },
    {
      "cell_type": "code",
      "source": [
        "ann.fit(X_train,y_train,batch_size=32,epochs=120)"
      ],
      "metadata": {
        "colab": {
          "base_uri": "https://localhost:8080/"
        },
        "id": "5n0V-MhQm0gz",
        "outputId": "0e717fb0-56a1-4dd4-d191-b2714ac6e82b"
      },
      "execution_count": null,
      "outputs": [
        {
          "output_type": "stream",
          "name": "stdout",
          "text": [
            "Epoch 1/120\n",
            "249/249 [==============================] - 3s 3ms/step - loss: 0.5423 - accuracy: 0.7976\n",
            "Epoch 2/120\n",
            "249/249 [==============================] - 1s 3ms/step - loss: 0.4883 - accuracy: 0.7976\n",
            "Epoch 3/120\n",
            "249/249 [==============================] - 1s 3ms/step - loss: 0.4755 - accuracy: 0.7976\n",
            "Epoch 4/120\n",
            "249/249 [==============================] - 1s 2ms/step - loss: 0.4616 - accuracy: 0.7976\n",
            "Epoch 5/120\n",
            "249/249 [==============================] - 1s 2ms/step - loss: 0.4465 - accuracy: 0.7976\n",
            "Epoch 6/120\n",
            "249/249 [==============================] - 1s 2ms/step - loss: 0.4373 - accuracy: 0.7991\n",
            "Epoch 7/120\n",
            "249/249 [==============================] - 1s 2ms/step - loss: 0.4328 - accuracy: 0.8056\n",
            "Epoch 8/120\n",
            "249/249 [==============================] - 1s 2ms/step - loss: 0.4291 - accuracy: 0.8095\n",
            "Epoch 9/120\n",
            "249/249 [==============================] - 1s 2ms/step - loss: 0.4254 - accuracy: 0.8121\n",
            "Epoch 10/120\n",
            "249/249 [==============================] - 0s 2ms/step - loss: 0.4223 - accuracy: 0.8170\n",
            "Epoch 11/120\n",
            "249/249 [==============================] - 1s 2ms/step - loss: 0.4197 - accuracy: 0.8184\n",
            "Epoch 12/120\n",
            "249/249 [==============================] - 1s 2ms/step - loss: 0.4174 - accuracy: 0.8216\n",
            "Epoch 13/120\n",
            "249/249 [==============================] - 1s 2ms/step - loss: 0.4156 - accuracy: 0.8180\n",
            "Epoch 14/120\n",
            "249/249 [==============================] - 0s 2ms/step - loss: 0.4139 - accuracy: 0.8183\n",
            "Epoch 15/120\n",
            "249/249 [==============================] - 0s 2ms/step - loss: 0.4124 - accuracy: 0.8190\n",
            "Epoch 16/120\n",
            "249/249 [==============================] - 1s 3ms/step - loss: 0.4106 - accuracy: 0.8207\n",
            "Epoch 17/120\n",
            "249/249 [==============================] - 1s 2ms/step - loss: 0.4091 - accuracy: 0.8189\n",
            "Epoch 18/120\n",
            "249/249 [==============================] - 0s 2ms/step - loss: 0.4079 - accuracy: 0.8200\n",
            "Epoch 19/120\n",
            "249/249 [==============================] - 0s 2ms/step - loss: 0.4063 - accuracy: 0.8211\n",
            "Epoch 20/120\n",
            "249/249 [==============================] - 0s 2ms/step - loss: 0.4049 - accuracy: 0.8208\n",
            "Epoch 21/120\n",
            "249/249 [==============================] - 1s 2ms/step - loss: 0.4035 - accuracy: 0.8214\n",
            "Epoch 22/120\n",
            "249/249 [==============================] - 1s 2ms/step - loss: 0.4026 - accuracy: 0.8213\n",
            "Epoch 23/120\n",
            "249/249 [==============================] - 1s 2ms/step - loss: 0.4012 - accuracy: 0.8217\n",
            "Epoch 24/120\n",
            "249/249 [==============================] - 1s 2ms/step - loss: 0.4002 - accuracy: 0.8217\n",
            "Epoch 25/120\n",
            "249/249 [==============================] - 1s 2ms/step - loss: 0.3996 - accuracy: 0.8212\n",
            "Epoch 26/120\n",
            "249/249 [==============================] - 1s 3ms/step - loss: 0.3989 - accuracy: 0.8223\n",
            "Epoch 27/120\n",
            "249/249 [==============================] - 1s 2ms/step - loss: 0.3983 - accuracy: 0.8214\n",
            "Epoch 28/120\n",
            "249/249 [==============================] - 1s 2ms/step - loss: 0.3977 - accuracy: 0.8203\n",
            "Epoch 29/120\n",
            "249/249 [==============================] - 1s 2ms/step - loss: 0.3973 - accuracy: 0.8218\n",
            "Epoch 30/120\n",
            "249/249 [==============================] - 1s 2ms/step - loss: 0.3965 - accuracy: 0.8217\n",
            "Epoch 31/120\n",
            "249/249 [==============================] - 1s 2ms/step - loss: 0.3964 - accuracy: 0.8229\n",
            "Epoch 32/120\n",
            "249/249 [==============================] - 1s 2ms/step - loss: 0.3964 - accuracy: 0.8209\n",
            "Epoch 33/120\n",
            "249/249 [==============================] - 1s 2ms/step - loss: 0.3961 - accuracy: 0.8226\n",
            "Epoch 34/120\n",
            "249/249 [==============================] - 1s 2ms/step - loss: 0.3955 - accuracy: 0.8231\n",
            "Epoch 35/120\n",
            "249/249 [==============================] - 1s 2ms/step - loss: 0.3953 - accuracy: 0.8228\n",
            "Epoch 36/120\n",
            "249/249 [==============================] - 0s 2ms/step - loss: 0.3949 - accuracy: 0.8236\n",
            "Epoch 37/120\n",
            "249/249 [==============================] - 1s 2ms/step - loss: 0.3949 - accuracy: 0.8233\n",
            "Epoch 38/120\n",
            "249/249 [==============================] - 1s 3ms/step - loss: 0.3945 - accuracy: 0.8233\n",
            "Epoch 39/120\n",
            "249/249 [==============================] - 1s 2ms/step - loss: 0.3942 - accuracy: 0.8226\n",
            "Epoch 40/120\n",
            "249/249 [==============================] - 1s 2ms/step - loss: 0.3935 - accuracy: 0.8231\n",
            "Epoch 41/120\n",
            "249/249 [==============================] - 1s 2ms/step - loss: 0.3940 - accuracy: 0.8221\n",
            "Epoch 42/120\n",
            "249/249 [==============================] - 1s 2ms/step - loss: 0.3932 - accuracy: 0.8232\n",
            "Epoch 43/120\n",
            "249/249 [==============================] - 0s 2ms/step - loss: 0.3933 - accuracy: 0.8221\n",
            "Epoch 44/120\n",
            "249/249 [==============================] - 0s 2ms/step - loss: 0.3930 - accuracy: 0.8214\n",
            "Epoch 45/120\n",
            "249/249 [==============================] - 1s 2ms/step - loss: 0.3927 - accuracy: 0.8224\n",
            "Epoch 46/120\n",
            "249/249 [==============================] - 0s 2ms/step - loss: 0.3922 - accuracy: 0.8233\n",
            "Epoch 47/120\n",
            "249/249 [==============================] - 0s 2ms/step - loss: 0.3917 - accuracy: 0.8238\n",
            "Epoch 48/120\n",
            "249/249 [==============================] - 0s 2ms/step - loss: 0.3916 - accuracy: 0.8219\n",
            "Epoch 49/120\n",
            "249/249 [==============================] - 0s 2ms/step - loss: 0.3911 - accuracy: 0.8222\n",
            "Epoch 50/120\n",
            "249/249 [==============================] - 1s 2ms/step - loss: 0.3917 - accuracy: 0.8233\n",
            "Epoch 51/120\n",
            "249/249 [==============================] - 1s 2ms/step - loss: 0.3905 - accuracy: 0.8245\n",
            "Epoch 52/120\n",
            "249/249 [==============================] - 0s 2ms/step - loss: 0.3902 - accuracy: 0.8240\n",
            "Epoch 53/120\n",
            "249/249 [==============================] - 1s 2ms/step - loss: 0.3898 - accuracy: 0.8248\n",
            "Epoch 54/120\n",
            "249/249 [==============================] - 1s 3ms/step - loss: 0.3891 - accuracy: 0.8241\n",
            "Epoch 55/120\n",
            "249/249 [==============================] - 0s 2ms/step - loss: 0.3889 - accuracy: 0.8236\n",
            "Epoch 56/120\n",
            "249/249 [==============================] - 0s 2ms/step - loss: 0.3875 - accuracy: 0.8242\n",
            "Epoch 57/120\n",
            "249/249 [==============================] - 1s 2ms/step - loss: 0.3872 - accuracy: 0.8250\n",
            "Epoch 58/120\n",
            "249/249 [==============================] - 1s 3ms/step - loss: 0.3865 - accuracy: 0.8236\n",
            "Epoch 59/120\n",
            "249/249 [==============================] - 0s 2ms/step - loss: 0.3863 - accuracy: 0.8250\n",
            "Epoch 60/120\n",
            "249/249 [==============================] - 0s 2ms/step - loss: 0.3860 - accuracy: 0.8257\n",
            "Epoch 61/120\n",
            "249/249 [==============================] - 0s 2ms/step - loss: 0.3853 - accuracy: 0.8260\n",
            "Epoch 62/120\n",
            "249/249 [==============================] - 0s 2ms/step - loss: 0.3855 - accuracy: 0.8232\n",
            "Epoch 63/120\n",
            "249/249 [==============================] - 0s 2ms/step - loss: 0.3853 - accuracy: 0.8237\n",
            "Epoch 64/120\n",
            "249/249 [==============================] - 0s 2ms/step - loss: 0.3846 - accuracy: 0.8270\n",
            "Epoch 65/120\n",
            "249/249 [==============================] - 0s 2ms/step - loss: 0.3847 - accuracy: 0.8291\n",
            "Epoch 66/120\n",
            "249/249 [==============================] - 0s 2ms/step - loss: 0.3840 - accuracy: 0.8310\n",
            "Epoch 67/120\n",
            "249/249 [==============================] - 0s 2ms/step - loss: 0.3838 - accuracy: 0.8284\n",
            "Epoch 68/120\n",
            "249/249 [==============================] - 0s 2ms/step - loss: 0.3836 - accuracy: 0.8308\n",
            "Epoch 69/120\n",
            "249/249 [==============================] - 1s 2ms/step - loss: 0.3828 - accuracy: 0.8316\n",
            "Epoch 70/120\n",
            "249/249 [==============================] - 1s 2ms/step - loss: 0.3829 - accuracy: 0.8314\n",
            "Epoch 71/120\n",
            "249/249 [==============================] - 1s 2ms/step - loss: 0.3827 - accuracy: 0.8306\n",
            "Epoch 72/120\n",
            "249/249 [==============================] - 0s 2ms/step - loss: 0.3824 - accuracy: 0.8328\n",
            "Epoch 73/120\n",
            "249/249 [==============================] - 0s 2ms/step - loss: 0.3821 - accuracy: 0.8324\n",
            "Epoch 74/120\n",
            "249/249 [==============================] - 0s 2ms/step - loss: 0.3823 - accuracy: 0.8325\n",
            "Epoch 75/120\n",
            "249/249 [==============================] - 1s 2ms/step - loss: 0.3814 - accuracy: 0.8344\n",
            "Epoch 76/120\n",
            "249/249 [==============================] - 1s 2ms/step - loss: 0.3816 - accuracy: 0.8330\n",
            "Epoch 77/120\n",
            "249/249 [==============================] - 1s 3ms/step - loss: 0.3813 - accuracy: 0.8335\n",
            "Epoch 78/120\n",
            "249/249 [==============================] - 1s 3ms/step - loss: 0.3811 - accuracy: 0.8330\n",
            "Epoch 79/120\n",
            "249/249 [==============================] - 1s 2ms/step - loss: 0.3811 - accuracy: 0.8323\n",
            "Epoch 80/120\n",
            "249/249 [==============================] - 0s 2ms/step - loss: 0.3811 - accuracy: 0.8336\n",
            "Epoch 81/120\n",
            "249/249 [==============================] - 1s 2ms/step - loss: 0.3805 - accuracy: 0.8336\n",
            "Epoch 82/120\n",
            "249/249 [==============================] - 1s 2ms/step - loss: 0.3806 - accuracy: 0.8333\n",
            "Epoch 83/120\n",
            "249/249 [==============================] - 0s 2ms/step - loss: 0.3802 - accuracy: 0.8336\n",
            "Epoch 84/120\n",
            "249/249 [==============================] - 0s 2ms/step - loss: 0.3798 - accuracy: 0.8321\n",
            "Epoch 85/120\n",
            "249/249 [==============================] - 0s 2ms/step - loss: 0.3793 - accuracy: 0.8357\n",
            "Epoch 86/120\n",
            "249/249 [==============================] - 1s 2ms/step - loss: 0.3794 - accuracy: 0.8335\n",
            "Epoch 87/120\n",
            "249/249 [==============================] - 1s 3ms/step - loss: 0.3784 - accuracy: 0.8334\n",
            "Epoch 88/120\n",
            "249/249 [==============================] - 1s 2ms/step - loss: 0.3785 - accuracy: 0.8330\n",
            "Epoch 89/120\n",
            "249/249 [==============================] - 0s 2ms/step - loss: 0.3781 - accuracy: 0.8350\n",
            "Epoch 90/120\n",
            "249/249 [==============================] - 0s 2ms/step - loss: 0.3781 - accuracy: 0.8348\n",
            "Epoch 91/120\n",
            "249/249 [==============================] - 0s 2ms/step - loss: 0.3772 - accuracy: 0.8368\n",
            "Epoch 92/120\n",
            "249/249 [==============================] - 0s 2ms/step - loss: 0.3773 - accuracy: 0.8343\n",
            "Epoch 93/120\n",
            "249/249 [==============================] - 0s 2ms/step - loss: 0.3768 - accuracy: 0.8345\n",
            "Epoch 94/120\n",
            "249/249 [==============================] - 1s 2ms/step - loss: 0.3764 - accuracy: 0.8354\n",
            "Epoch 95/120\n",
            "249/249 [==============================] - 1s 2ms/step - loss: 0.3760 - accuracy: 0.8386\n",
            "Epoch 96/120\n",
            "249/249 [==============================] - 1s 2ms/step - loss: 0.3769 - accuracy: 0.8370\n",
            "Epoch 97/120\n",
            "249/249 [==============================] - 1s 3ms/step - loss: 0.3762 - accuracy: 0.8365\n",
            "Epoch 98/120\n",
            "249/249 [==============================] - 1s 2ms/step - loss: 0.3759 - accuracy: 0.8382\n",
            "Epoch 99/120\n",
            "249/249 [==============================] - 1s 2ms/step - loss: 0.3756 - accuracy: 0.8367\n",
            "Epoch 100/120\n",
            "249/249 [==============================] - 0s 2ms/step - loss: 0.3761 - accuracy: 0.8350\n",
            "Epoch 101/120\n",
            "249/249 [==============================] - 1s 2ms/step - loss: 0.3749 - accuracy: 0.8368\n",
            "Epoch 102/120\n",
            "249/249 [==============================] - 1s 2ms/step - loss: 0.3755 - accuracy: 0.8358\n",
            "Epoch 103/120\n",
            "249/249 [==============================] - 1s 2ms/step - loss: 0.3745 - accuracy: 0.8370\n",
            "Epoch 104/120\n",
            "249/249 [==============================] - 1s 2ms/step - loss: 0.3750 - accuracy: 0.8348\n",
            "Epoch 105/120\n",
            "249/249 [==============================] - 1s 2ms/step - loss: 0.3752 - accuracy: 0.8365\n",
            "Epoch 106/120\n",
            "249/249 [==============================] - 1s 3ms/step - loss: 0.3743 - accuracy: 0.8377\n",
            "Epoch 107/120\n",
            "249/249 [==============================] - 1s 3ms/step - loss: 0.3745 - accuracy: 0.8393\n",
            "Epoch 108/120\n",
            "249/249 [==============================] - 0s 2ms/step - loss: 0.3739 - accuracy: 0.8398\n",
            "Epoch 109/120\n",
            "249/249 [==============================] - 1s 2ms/step - loss: 0.3749 - accuracy: 0.8379\n",
            "Epoch 110/120\n",
            "249/249 [==============================] - 1s 2ms/step - loss: 0.3738 - accuracy: 0.8372\n",
            "Epoch 111/120\n",
            "249/249 [==============================] - 1s 2ms/step - loss: 0.3742 - accuracy: 0.8378\n",
            "Epoch 112/120\n",
            "249/249 [==============================] - 1s 2ms/step - loss: 0.3738 - accuracy: 0.8364\n",
            "Epoch 113/120\n",
            "249/249 [==============================] - 0s 2ms/step - loss: 0.3732 - accuracy: 0.8370\n",
            "Epoch 114/120\n",
            "249/249 [==============================] - 0s 2ms/step - loss: 0.3730 - accuracy: 0.8391\n",
            "Epoch 115/120\n",
            "249/249 [==============================] - 1s 2ms/step - loss: 0.3734 - accuracy: 0.8398\n",
            "Epoch 116/120\n",
            "249/249 [==============================] - 0s 2ms/step - loss: 0.3728 - accuracy: 0.8373\n",
            "Epoch 117/120\n",
            "249/249 [==============================] - 0s 2ms/step - loss: 0.3726 - accuracy: 0.8406\n",
            "Epoch 118/120\n",
            "249/249 [==============================] - 1s 2ms/step - loss: 0.3714 - accuracy: 0.8393\n",
            "Epoch 119/120\n",
            "249/249 [==============================] - 1s 2ms/step - loss: 0.3718 - accuracy: 0.8420\n",
            "Epoch 120/120\n",
            "249/249 [==============================] - 1s 2ms/step - loss: 0.3713 - accuracy: 0.8393\n"
          ]
        },
        {
          "output_type": "execute_result",
          "data": {
            "text/plain": [
              "<keras.callbacks.History at 0x7fd3fc981f70>"
            ]
          },
          "metadata": {},
          "execution_count": 53
        }
      ]
    },
    {
      "cell_type": "code",
      "source": [
        "ypred=ann.predict(X_test)"
      ],
      "metadata": {
        "id": "YE53Ps14m8hz",
        "colab": {
          "base_uri": "https://localhost:8080/"
        },
        "outputId": "a1581178-f86a-451e-da86-722b761dfe1b"
      },
      "execution_count": null,
      "outputs": [
        {
          "output_type": "stream",
          "name": "stdout",
          "text": [
            "63/63 [==============================] - 0s 2ms/step\n"
          ]
        }
      ]
    },
    {
      "cell_type": "code",
      "source": [
        "ypred=ypred>0.5"
      ],
      "metadata": {
        "id": "YRdQnBS6vGc_"
      },
      "execution_count": null,
      "outputs": []
    },
    {
      "cell_type": "code",
      "source": [
        "from sklearn.metrics import confusion_matrix,accuracy_score\n",
        "cm=confusion_matrix(y_test,ypred)\n",
        "print(cm)\n",
        "accuracy_score(y_test,ypred)\n"
      ],
      "metadata": {
        "colab": {
          "base_uri": "https://localhost:8080/"
        },
        "id": "Y7RsriM-vJb9",
        "outputId": "e109162a-e4d9-4ad6-cb88-e8f1dcf47679"
      },
      "execution_count": null,
      "outputs": [
        {
          "output_type": "stream",
          "name": "stdout",
          "text": [
            "[[1469   96]\n",
            " [ 226  195]]\n"
          ]
        },
        {
          "output_type": "execute_result",
          "data": {
            "text/plain": [
              "0.837865055387714"
            ]
          },
          "metadata": {},
          "execution_count": 58
        }
      ]
    },
    {
      "cell_type": "code",
      "source": [],
      "metadata": {
        "id": "OdlTyQoLvZXA"
      },
      "execution_count": null,
      "outputs": []
    }
  ]
}